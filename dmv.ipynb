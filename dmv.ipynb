{
 "cells": [
  {
   "cell_type": "markdown",
   "id": "9fa4451e",
   "metadata": {},
   "source": [
    "# 1 dmv"
   ]
  },
  {
   "cell_type": "code",
   "execution_count": null,
   "id": "c0e80d41",
   "metadata": {},
   "outputs": [],
   "source": [
    "import warnings \n",
    "warnings.filterwarnings('ignore')\n",
    "\n",
    "import numpy as np\n",
    "import pandas as pd\n",
    "from matplotlib import pyplot as plt\n",
    "import json\n",
    "import seaborn as sns\n",
    "\n",
    "csv = pd.read_csv(\"sales data.csv\")\n",
    "ed = pd.read_excel(\"sales data.xlsx\")\n",
    "jd=pd.read_json(\"sales data.json\")\n",
    "all_data = pd.concat([csv, ed, jd], ignore_index=True)\n",
    "print(\"Data Combined Successfully\")\n",
    "print(\"Missing Values:\\n\", all_data.isnull().sum())\n",
    "\n",
    "all_data.drop_duplicates(inplace=True)\n",
    "print(\"Duplicates Removed Successfully\")\n",
    "all_data\n",
    "\n",
    "all_data['Date'] = pd.to_datetime(all_data['Date'], errors='coerce')  #trans\n",
    "\n",
    "csv.boxplot()\n",
    "sns.pairplot(ed)\n",
    "plt.show()\n",
    "\n",
    "plt.figure(figsize=(20,10))\n",
    "category_counts = all_data['Rating'].value_counts()\n",
    "category_counts.plot(kind='bar')\n",
    "plt.title('Product Category Distribution')\n",
    "plt.xlabel('Rating')\n",
    "plt.ylabel('Count')\n",
    "plt.show()"
   ]
  },
  {
   "cell_type": "markdown",
   "id": "b8c5c6fa",
   "metadata": {},
   "source": [
    "# 2 dmv"
   ]
  },
  {
   "cell_type": "code",
   "execution_count": null,
   "id": "dd37a55f",
   "metadata": {},
   "outputs": [],
   "source": [
    "df= pd.read_csv('weather.csv')\n",
    "df"
   ]
  },
  {
   "cell_type": "code",
   "execution_count": null,
   "id": "fa9ea54a",
   "metadata": {},
   "outputs": [],
   "source": [
    "df.isnull().sum()"
   ]
  },
  {
   "cell_type": "code",
   "execution_count": null,
   "id": "af9f602a",
   "metadata": {},
   "outputs": [],
   "source": [
    "# Group by date and calculate average temperature\n",
    "avg_temp = df.groupby('Date.Full')['Data.Temperature.Avg Temp'].mean().reset_index()\n",
    "\n",
    "# Visualization\n",
    "import matplotlib.pyplot as plt\n",
    "\n",
    "plt.figure(figsize=(12, 6))\n",
    "plt.plot(avg_temp['Date.Full'], avg_temp['Data.Temperature.Avg Temp'], marker='o', color='blue')\n",
    "plt.title('Average Temperature Over Time')\n",
    "plt.xlabel('Date')\n",
    "plt.ylabel('Average Temperature (°F)')\n",
    "plt.xticks(rotation=45)\n",
    "plt.grid()\n",
    "plt.show()\n"
   ]
  },
  {
   "cell_type": "code",
   "execution_count": null,
   "id": "7a3d1dbf",
   "metadata": {},
   "outputs": [],
   "source": [
    "# Group by date and calculate total precipitation\n",
    "total_precipitation = df.groupby('Date.Full')['Data.Precipitation'].sum().reset_index()\n",
    "\n",
    "# Visualization\n",
    "plt.figure(figsize=(12, 6))\n",
    "plt.bar(total_precipitation['Date.Full'], total_precipitation['Data.Precipitation'], color='skyblue')\n",
    "plt.title('Total Precipitation Over Time')\n",
    "plt.xlabel('Date')\n",
    "plt.ylabel('Precipitation (inches)')\n",
    "plt.xticks(rotation=45)\n",
    "plt.grid(axis='y')\n",
    "plt.show()\n"
   ]
  },
  {
   "cell_type": "code",
   "execution_count": null,
   "id": "3cfea777",
   "metadata": {},
   "outputs": [],
   "source": [
    "# Group by city and calculate average wind speed\n",
    "avg_wind_speed = df.groupby('Station.City')['Data.Wind.Speed'].mean().reset_index()\n",
    "\n",
    "# Visualization\n",
    "plt.figure(figsize=(20, 8))\n",
    "plt.bar(avg_wind_speed['Station.City'], avg_wind_speed['Data.Wind.Speed'], color='orange')\n",
    "plt.title('Average Wind Speed by City')\n",
    "plt.xlabel('City')\n",
    "plt.ylabel('Average Wind Speed (mph)')\n",
    "plt.xticks(rotation=45)\n",
    "plt.grid(axis='y')\n",
    "plt.show()\n"
   ]
  },
  {
   "cell_type": "markdown",
   "id": "906a4afb",
   "metadata": {},
   "source": [
    "# 3 dmv"
   ]
  },
  {
   "cell_type": "code",
   "execution_count": null,
   "id": "36b095e4",
   "metadata": {},
   "outputs": [],
   "source": [
    "import pandas as pd"
   ]
  },
  {
   "cell_type": "code",
   "execution_count": null,
   "id": "3308b6f4",
   "metadata": {},
   "outputs": [],
   "source": [
    "df=pd.read_csv('telecom_churn.csv')\n",
    "df"
   ]
  },
  {
   "cell_type": "code",
   "execution_count": null,
   "id": "5defcde5",
   "metadata": {},
   "outputs": [],
   "source": [
    "# Convert 'date_of_registration' to datetime\n",
    "df['date_of_registration'] = pd.to_datetime(df['date_of_registration'], errors='coerce')\n",
    "\n",
    "# Handle missing or invalid data in 'data_used'\n",
    "df['data_used'] = df['data_used'].apply(lambda x: abs(x) if x < 0 else x)\n",
    "\n",
    "# Check for any remaining missing values\n",
    "print(df.isnull().sum())"
   ]
  },
  {
   "cell_type": "code",
   "execution_count": null,
   "id": "ce3488d9",
   "metadata": {},
   "outputs": [],
   "source": [
    "df"
   ]
  },
  {
   "cell_type": "code",
   "execution_count": null,
   "id": "36f4a58f",
   "metadata": {},
   "outputs": [],
   "source": [
    "# Calculate tenure (years as a customer)\n",
    "df['tenure_years'] = (pd.to_datetime(\"2024-01-01\") - df['date_of_registration']).dt.days // 365\n",
    "\n",
    "# Binning 'estimated_salary' into income brackets\n",
    "df['income_bracket'] = pd.cut(df['estimated_salary'], bins=[0, 50000, 100000, 150000, 200000], labels=['Low', 'Medium', 'High', 'Very High'])\n",
    "\n",
    "# Convert categorical variables to numeric\n",
    "df = pd.get_dummies(df, columns=['telecom_partner', 'gender', 'state', 'city', 'income_bracket'], drop_first=True)\n"
   ]
  },
  {
   "cell_type": "code",
   "execution_count": null,
   "id": "43e2303b",
   "metadata": {},
   "outputs": [],
   "source": [
    "df"
   ]
  },
  {
   "cell_type": "code",
   "execution_count": null,
   "id": "0388e79d",
   "metadata": {},
   "outputs": [],
   "source": [
    "import matplotlib.pyplot as plt\n",
    "import seaborn as sns\n",
    "\n",
    "# Churn distribution\n",
    "sns.countplot(x='churn', data=df)\n",
    "plt.title('Churn Distribution')\n",
    "plt.show()\n",
    "\n",
    "# Numerical feature analysis\n",
    "numerical_features = ['age', 'num_dependents', 'estimated_salary', 'calls_made', 'sms_sent', 'data_used', 'tenure_years']\n",
    "for feature in numerical_features:\n",
    "    plt.figure()\n",
    "    sns.boxplot(x='churn', y=feature, data=df)\n",
    "    plt.title(f'{feature} vs. Churn')\n",
    "    plt.show()\n",
    "\n",
    "# Categorical feature analysis (e.g., telecom_partner)\n",
    "sns.countplot(x='telecom_partner_Reliance Jio', hue='churn', data=df)\n",
    "plt.title('Churn by Telecom Partner')\n",
    "plt.show()\n"
   ]
  },
  {
   "cell_type": "markdown",
   "id": "ad999307",
   "metadata": {},
   "source": [
    "# dmv 4"
   ]
  },
  {
   "cell_type": "code",
   "execution_count": null,
   "id": "e92f9f0c",
   "metadata": {},
   "outputs": [],
   "source": [
    "df=pd.read_csv('Real-Estate dataset.csv')\n",
    "df"
   ]
  },
  {
   "cell_type": "code",
   "execution_count": null,
   "id": "1d3147cd",
   "metadata": {},
   "outputs": [],
   "source": [
    "# Check for missing values\n",
    "print(df.isnull().sum())\n",
    "\n",
    "# Convert binary categorical columns to 0 and 1\n",
    "binary_columns = ['mainroad', 'guestroom', 'basement', 'hotwaterheating', 'airconditioning', 'prefarea']\n",
    "for col in binary_columns:\n",
    "    df[col] = df[col].apply(lambda x: 1 if x == 'yes' else 0)\n",
    "\n",
    "# Convert categorical column 'furnishingstatus' to numerical encoding\n",
    "df = pd.get_dummies(df, columns=['furnishingstatus'], drop_first=True)\n"
   ]
  },
  {
   "cell_type": "code",
   "execution_count": null,
   "id": "29fb6074",
   "metadata": {},
   "outputs": [],
   "source": [
    "# Add 'price_per_sqft' feature\n",
    "df['price_per_sqft'] = df['price'] / df['area']\n",
    "\n",
    "# Add 'total_rooms' feature\n",
    "df['total_rooms'] = df['bedrooms'] + df['bathrooms']\n",
    "\n",
    "# Create 'luxury_index' based on amenities\n",
    "df['luxury_index'] = df[['mainroad', 'guestroom', 'basement', 'hotwaterheating', 'airconditioning', 'parking', 'prefarea']].sum(axis=1)\n"
   ]
  },
  {
   "cell_type": "code",
   "execution_count": null,
   "id": "c996498a",
   "metadata": {},
   "outputs": [],
   "source": [
    "df"
   ]
  },
  {
   "cell_type": "code",
   "execution_count": null,
   "id": "9c4e31f9",
   "metadata": {},
   "outputs": [],
   "source": [
    "import seaborn as sns\n",
    "import matplotlib.pyplot as plt\n",
    "\n",
    "# Correlation matrix\n",
    "plt.figure(figsize=(18,12))\n",
    "corr_matrix = df.corr()\n",
    "sns.heatmap(corr_matrix, annot=True, cmap='coolwarm')\n",
    "plt.title(\"Correlation Matrix\")\n",
    "plt.show()\n",
    "\n",
    "# Scatter plot for 'area' vs 'price'\n",
    "plt.figure(figsize=(8,6))\n",
    "sns.scatterplot(data=df, x='area', y='price')\n",
    "plt.title(\"Area vs Price\")\n",
    "plt.show()\n",
    "\n",
    "# Box plot for 'furnishingstatus' vs 'price'\n",
    "plt.figure(figsize=(8,6))\n",
    "sns.boxplot(x='furnishingstatus_semi-furnished', y='price', data=df)\n",
    "plt.title(\"Furnishing Status vs Price\")\n",
    "plt.show()\n"
   ]
  },
  {
   "cell_type": "code",
   "execution_count": null,
   "id": "d8f1b3c3",
   "metadata": {},
   "outputs": [],
   "source": [
    "from sklearn.preprocessing import StandardScaler\n",
    "\n",
    "# List of numerical columns to scale\n",
    "num_cols = ['price', 'area', 'price_per_sqft', 'total_rooms', 'luxury_index', 'bedrooms', 'bathrooms', 'stories', 'parking']\n",
    "\n",
    "# Apply standard scaling\n",
    "scaler = StandardScaler()\n",
    "df[num_cols] = scaler.fit_transform(df[num_cols])\n"
   ]
  },
  {
   "cell_type": "code",
   "execution_count": null,
   "id": "51608d14",
   "metadata": {},
   "outputs": [],
   "source": [
    "df"
   ]
  },
  {
   "cell_type": "markdown",
   "id": "3a22b1be",
   "metadata": {},
   "source": [
    "# 5 dmv"
   ]
  },
  {
   "cell_type": "code",
   "execution_count": null,
   "id": "794fbe2b",
   "metadata": {},
   "outputs": [],
   "source": [
    "df=pd.read_csv('AQI Data Set.csv')\n",
    "df"
   ]
  },
  {
   "cell_type": "code",
   "execution_count": null,
   "id": "99968924",
   "metadata": {},
   "outputs": [],
   "source": [
    "# Check for missing values\n",
    "print(df.isnull().sum())\n",
    "\n",
    "# Fill missing values (for this example, we'll fill with the mean of the columns)\n",
    "df.fillna(df.mean(), inplace=True)\n",
    "\n",
    "# Verify the changes\n",
    "print(df.isnull().sum())\n",
    "df=df.dropna()"
   ]
  },
  {
   "cell_type": "code",
   "execution_count": null,
   "id": "3bb04326",
   "metadata": {},
   "outputs": [],
   "source": [
    "# Convert 'Months' to datetime\n",
    "df['Mounths'] = pd.to_datetime(df['Mounths'], format='%b-%y')\n",
    "\n",
    "# Sort the DataFrame by 'Months'\n",
    "df.sort_values('Mounths', inplace=True)\n",
    "\n",
    "print(df)\n"
   ]
  },
  {
   "cell_type": "code",
   "execution_count": null,
   "id": "cc6c453f",
   "metadata": {},
   "outputs": [],
   "source": [
    "import matplotlib.pyplot as plt\n",
    "\n",
    "# Set the style for the plots\n",
    "plt.style.use('seaborn-darkgrid')\n",
    "\n",
    "# Create a figure and axis\n",
    "fig, ax = plt.subplots(figsize=(14, 8))\n",
    "\n",
    "# Plot AQI trends\n",
    "ax.plot(df['Mounths'], df['AQI'], marker='o', label='AQI', color='blue')\n",
    "\n",
    "# Plot trends for different pollutants\n",
    "ax.plot(df['Mounths'], df['PM10'], marker='o', label='PM10', color='orange')\n",
    "ax.plot(df['Mounths'], df['SO2'], marker='o', label='SO2', color='green')\n",
    "ax.plot(df['Mounths'], df['NOx'], marker='o', label='NOx', color='red')\n",
    "ax.plot(df['Mounths'], df['PM2.5'], marker='o', label='PM2.5', color='purple')\n",
    "\n",
    "# Add labels and title\n",
    "ax.set_xlabel('Mounths', fontsize=14)\n",
    "ax.set_ylabel('Concentration (µg/m³)', fontsize=14)\n",
    "ax.set_title('Air Quality Index (AQI) Trends and Pollutants', fontsize=16)\n",
    "ax.legend()\n",
    "ax.grid()\n",
    "\n",
    "# Show the plot\n",
    "plt.xticks(rotation=45)\n",
    "plt.tight_layout()\n",
    "plt.show()\n"
   ]
  },
  {
   "cell_type": "markdown",
   "id": "df29cde7",
   "metadata": {},
   "source": [
    "# 6 dmv"
   ]
  },
  {
   "cell_type": "code",
   "execution_count": null,
   "id": "1b9f2d3d",
   "metadata": {},
   "outputs": [],
   "source": [
    "df=pd.read_csv('retail_sales_data.csv')\n",
    "df"
   ]
  },
  {
   "cell_type": "code",
   "execution_count": null,
   "id": "84cf8f22",
   "metadata": {},
   "outputs": [],
   "source": [
    "# Calculate total sales\n",
    "df['total_sales'] = df['quantity'] * df['price']\n",
    "\n",
    "# Group by shopping mall and sum the sales\n",
    "sales_by_region = df.groupby('shopping_mall')['total_sales'].sum().reset_index()\n",
    "\n",
    "# Sort by total sales in descending order\n",
    "sales_by_region = sales_by_region.sort_values(by='total_sales', ascending=False)\n",
    "\n",
    "print(sales_by_region)\n"
   ]
  },
  {
   "cell_type": "code",
   "execution_count": null,
   "id": "161e88f4",
   "metadata": {},
   "outputs": [],
   "source": [
    "import matplotlib.pyplot as plt\n",
    "\n",
    "plt.figure(figsize=(10, 6))\n",
    "plt.bar(sales_by_region['shopping_mall'], sales_by_region['total_sales'], color='skyblue')\n",
    "plt.title('Total Sales Performance by Shopping Mall')\n",
    "plt.xlabel('Shopping Mall')\n",
    "plt.ylabel('Total Sales')\n",
    "plt.xticks(rotation=45)\n",
    "plt.show()\n"
   ]
  },
  {
   "cell_type": "code",
   "execution_count": null,
   "id": "24cbcea3",
   "metadata": {},
   "outputs": [],
   "source": [
    "# Calculate total sales by category\n",
    "sales_by_category = df.groupby('category')['total_sales'].sum().reset_index()\n",
    "\n",
    "# Create a bar chart\n",
    "plt.figure(figsize=(10, 6))\n",
    "plt.bar(sales_by_category['category'], sales_by_category['total_sales'], color='lightgreen')\n",
    "plt.title('Total Sales by Product Category')\n",
    "plt.xlabel('Product Category')\n",
    "plt.ylabel('Total Sales')\n",
    "plt.xticks(rotation=45)\n",
    "plt.show()\n"
   ]
  },
  {
   "cell_type": "code",
   "execution_count": null,
   "id": "9dc74543",
   "metadata": {},
   "outputs": [],
   "source": [
    "# Calculate total sales by payment method\n",
    "sales_by_payment_method = df.groupby('payment_method')['total_sales'].sum().reset_index()\n",
    "\n",
    "# Create a pie chart\n",
    "plt.figure(figsize=(8, 8))\n",
    "plt.pie(sales_by_payment_method['total_sales'], labels=sales_by_payment_method['payment_method'], autopct='%1.1f%%', startangle=140)\n",
    "plt.title('Sales Distribution by Payment Method')\n",
    "plt.axis('equal')  # Equal aspect ratio\n",
    "plt.show()\n"
   ]
  },
  {
   "cell_type": "code",
   "execution_count": null,
   "id": "1b7a6e31",
   "metadata": {},
   "outputs": [],
   "source": [
    "# Calculate total sales by gender and category\n",
    "sales_by_gender_category = df.groupby(['gender', 'category'])['total_sales'].sum().unstack()\n",
    "\n",
    "# Create a grouped bar chart\n",
    "sales_by_gender_category.plot(kind='bar', figsize=(10, 6), color=['#ff9999', '#66b3ff'])\n",
    "plt.title('Sales Performance by Gender and Category')\n",
    "plt.xlabel('Gender')\n",
    "plt.ylabel('Total Sales')\n",
    "plt.xticks(rotation=0)\n",
    "plt.legend(title='Product Category')\n",
    "plt.show()\n"
   ]
  },
  {
   "cell_type": "code",
   "execution_count": null,
   "id": "81634458",
   "metadata": {},
   "outputs": [],
   "source": []
  }
 ],
 "metadata": {
  "kernelspec": {
   "display_name": "Python 3 (ipykernel)",
   "language": "python",
   "name": "python3"
  },
  "language_info": {
   "codemirror_mode": {
    "name": "ipython",
    "version": 3
   },
   "file_extension": ".py",
   "mimetype": "text/x-python",
   "name": "python",
   "nbconvert_exporter": "python",
   "pygments_lexer": "ipython3",
   "version": "3.9.7"
  }
 },
 "nbformat": 4,
 "nbformat_minor": 5
}
